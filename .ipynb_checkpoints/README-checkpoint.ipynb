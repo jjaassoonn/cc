{
 "cells": [
  {
   "cell_type": "markdown",
   "metadata": {
    "slideshow": {
     "slide_type": "slide"
    }
   },
   "source": [
    "# Čech cohomology\n",
    "\n",
    "Let $X$ be a topological space, we define open covers of $X$ as\n",
    "```lean\n",
    "structure oc :=\n",
    "(ι : Type*)\n",
    "[lo : linear_order ι] \n",
    "[wo : is_well_order ι ((≤) : ι → ι → Prop)]\n",
    "(cover : ι → opens X)\n",
    "(is_cover : supr cover = ⊤)\n",
    "```\n",
    "\n",
    "We temporarily fix the indexing set $ι$, then an $n$-simplex is simply a finite set of $ι$ with $n+1$ elements. In Lean, this is\n",
    "```lean\n",
    "@[ext] structure simplex (n : ℕ) extends finset ι :=\n",
    "(card_eq : to_finset.card = n.succ)\n",
    "```\n",
    "\n",
    "TBC"
   ]
  },
  {
   "cell_type": "markdown",
   "metadata": {
    "slideshow": {
     "slide_type": "slide"
    }
   },
   "source": [
    "First baby step\n",
    "\n",
    "```lean\n",
    "lemma dd {n : ℕ} (hn : 0 < n) (f : C 𝓕 𝔘 n.pred) : d_pos (nat.zero_lt_succ _) (d_pos hn f) = 0 :=\n",
    "begin\n",
    "  ext σ,\n",
    "  convert dd_pos.eq26 hn f σ,\n",
    "end\n",
    "```\n",
    "\n",
    "So we have a differential now, which means we can build cohomology theory.\n",
    "\n",
    "To use the mathlib version of Abelian group has colimits, we need to lift up one universe."
   ]
  },
  {
   "cell_type": "markdown",
   "metadata": {},
   "source": []
  }
 ],
 "metadata": {
  "celltoolbar": "Slideshow",
  "kernelspec": {
   "display_name": "Python 3 (ipykernel)",
   "language": "python",
   "name": "python3"
  },
  "language_info": {
   "codemirror_mode": {
    "name": "ipython",
    "version": 3
   },
   "file_extension": ".py",
   "mimetype": "text/x-python",
   "name": "python",
   "nbconvert_exporter": "python",
   "pygments_lexer": "ipython3",
   "version": "3.9.10"
  }
 },
 "nbformat": 4,
 "nbformat_minor": 2
}
