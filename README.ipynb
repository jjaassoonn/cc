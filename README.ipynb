{
 "cells": [
  {
   "cell_type": "markdown",
   "metadata": {},
   "source": [
    "# Čech cohomology\n",
    "\n",
    "Let $X$ be a topological space, we define open covers of $X$ as\n",
    "```lean\n",
    "structure oc :=\n",
    "(ι : Type*)\n",
    "[lo : linear_order ι] \n",
    "-- [wo : is_well_order ι ((≤) : ι → ι → Prop)]\n",
    "(cover : ι → opens X)\n",
    "(is_cover : supr cover = ⊤)\n",
    "```\n",
    "\n",
    "Textbooks require the indexing set to be well-ordered, so far I haven't used the well-ordering property at all.\n",
    "\n",
    "We temporarily fix the indexing set $ι$, then an $n$-simplex is simply a finite set of $ι$ with $n+1$ elements. In Lean, this is\n",
    "```lean\n",
    "@[ext] structure simplex (n : ℕ) extends finset ι :=\n",
    "(card_eq : to_finset.card = n.succ)\n",
    "```\n",
    "\n",
    "TBC"
   ]
  },
  {
   "cell_type": "markdown",
   "metadata": {},
   "source": [
    "First baby step\n",
    "\n",
    "```lean\n",
    "lemma dd {n : ℕ} (hn : 0 < n) (f : C 𝓕 𝔘 n.pred) : d_pos (nat.zero_lt_succ _) (d_pos hn f) = 0 :=\n",
    "begin\n",
    "  ext σ,\n",
    "  convert dd_pos.eq26 hn f σ,\n",
    "end\n",
    "```\n",
    "\n",
    "So we have a differential now, which means we can build cohomology theory."
   ]
  },
  {
   "cell_type": "markdown",
   "metadata": {},
   "source": []
  }
 ],
 "metadata": {
  "language_info": {
   "name": "python"
  },
  "orig_nbformat": 4
 },
 "nbformat": 4,
 "nbformat_minor": 2
}
